{
  "nbformat": 4,
  "nbformat_minor": 0,
  "metadata": {
    "colab": {
      "name": "Lesson-04.2-end of Step 7.ipynb",
      "provenance": [],
      "collapsed_sections": []
    },
    "kernelspec": {
      "name": "python3",
      "display_name": "Python 3"
    }
  },
  "cells": [
    {
      "cell_type": "code",
      "metadata": {
        "id": "EhaWPNBmkSYB",
        "colab_type": "code",
        "outputId": "478ed731-f83b-46fd-d5c0-19bf054f0f89",
        "colab": {
          "base_uri": "https://localhost:8080/",
          "height": 34
        }
      },
      "source": [
        "# APJC CSC Ignite 2019\n",
        "# First Jupyter Notebook Exercise\n",
        "# Maint : Lee Man Wei\n",
        "# 2019 Sep 18\n",
        "\n",
        "# Practice is to include all libraries at the top\n",
        "# Standard Library\n",
        "import numpy as np\n",
        "\n",
        "# Third Part\n",
        "import tensorflow as tf\n",
        "import matplotlib.pyplot as plt \n",
        "from tensorflow import keras \n",
        "\n",
        "# Local Applications\n",
        "\n",
        "\n",
        "tf.__version__"
      ],
      "execution_count": 0,
      "outputs": [
        {
          "output_type": "execute_result",
          "data": {
            "text/plain": [
              "'1.14.0'"
            ]
          },
          "metadata": {
            "tags": []
          },
          "execution_count": 32
        }
      ]
    },
    {
      "cell_type": "code",
      "metadata": {
        "id": "n6_qDisymFSg",
        "colab_type": "code",
        "outputId": "55d17585-ff9a-4016-8459-e868299c262e",
        "colab": {
          "base_uri": "https://localhost:8080/",
          "height": 187
        }
      },
      "source": [
        "# Loading the dataset for the Digits OCR\n",
        "mnist = tf.keras.datasets.mnist\n",
        "(X_train, y_train), (X_test, y_test) = mnist.load_data()\n",
        "\n",
        "print(\"Training data\")\n",
        "print(len(X_train))\n",
        "print(X_train.shape)\n",
        "\n",
        "print(len(y_train))\n",
        "print(y_train.shape)\n",
        "\n",
        "print(\"Testing Data\")\n",
        "print(len(X_test))\n",
        "print(X_test.shape)\n",
        "\n",
        "print(len(y_test))\n",
        "print(y_test.shape)\n"
      ],
      "execution_count": 0,
      "outputs": [
        {
          "output_type": "stream",
          "text": [
            "Training data\n",
            "60000\n",
            "(60000, 28, 28)\n",
            "60000\n",
            "(60000,)\n",
            "Testing Data\n",
            "10000\n",
            "(10000, 28, 28)\n",
            "10000\n",
            "(10000,)\n"
          ],
          "name": "stdout"
        }
      ]
    },
    {
      "cell_type": "code",
      "metadata": {
        "id": "gXDpQdyip2if",
        "colab_type": "code",
        "outputId": "1f88be3f-c8ee-49a0-a8e7-41cd4af52974",
        "colab": {
          "base_uri": "https://localhost:8080/",
          "height": 1000
        }
      },
      "source": [
        "X_train[3]"
      ],
      "execution_count": 0,
      "outputs": [
        {
          "output_type": "execute_result",
          "data": {
            "text/plain": [
              "array([[  0,   0,   0,   0,   0,   0,   0,   0,   0,   0,   0,   0,   0,\n",
              "          0,   0,   0,   0,   0,   0,   0,   0,   0,   0,   0,   0,   0,\n",
              "          0,   0],\n",
              "       [  0,   0,   0,   0,   0,   0,   0,   0,   0,   0,   0,   0,   0,\n",
              "          0,   0,   0,   0,   0,   0,   0,   0,   0,   0,   0,   0,   0,\n",
              "          0,   0],\n",
              "       [  0,   0,   0,   0,   0,   0,   0,   0,   0,   0,   0,   0,   0,\n",
              "          0,   0,   0,   0,   0,   0,   0,   0,   0,   0,   0,   0,   0,\n",
              "          0,   0],\n",
              "       [  0,   0,   0,   0,   0,   0,   0,   0,   0,   0,   0,   0,   0,\n",
              "          0,   0,   0,   0,   0,   0,   0,   0,   0,   0,   0,   0,   0,\n",
              "          0,   0],\n",
              "       [  0,   0,   0,   0,   0,   0,   0,   0,   0,   0,   0,   0,   0,\n",
              "          0,   0,   0,   0,   0,   0,   0,   0,   0,   0,   0,   0,   0,\n",
              "          0,   0],\n",
              "       [  0,   0,   0,   0,   0,   0,   0,   0,   0,   0,   0,   0,   0,\n",
              "          0,   0,   0,   0,   0, 124, 253, 255,  63,   0,   0,   0,   0,\n",
              "          0,   0],\n",
              "       [  0,   0,   0,   0,   0,   0,   0,   0,   0,   0,   0,   0,   0,\n",
              "          0,   0,   0,   0,  96, 244, 251, 253,  62,   0,   0,   0,   0,\n",
              "          0,   0],\n",
              "       [  0,   0,   0,   0,   0,   0,   0,   0,   0,   0,   0,   0,   0,\n",
              "          0,   0,   0,   0, 127, 251, 251, 253,  62,   0,   0,   0,   0,\n",
              "          0,   0],\n",
              "       [  0,   0,   0,   0,   0,   0,   0,   0,   0,   0,   0,   0,   0,\n",
              "          0,   0,   0,  68, 236, 251, 211,  31,   8,   0,   0,   0,   0,\n",
              "          0,   0],\n",
              "       [  0,   0,   0,   0,   0,   0,   0,   0,   0,   0,   0,   0,   0,\n",
              "          0,   0,  60, 228, 251, 251,  94,   0,   0,   0,   0,   0,   0,\n",
              "          0,   0],\n",
              "       [  0,   0,   0,   0,   0,   0,   0,   0,   0,   0,   0,   0,   0,\n",
              "          0,   0, 155, 253, 253, 189,   0,   0,   0,   0,   0,   0,   0,\n",
              "          0,   0],\n",
              "       [  0,   0,   0,   0,   0,   0,   0,   0,   0,   0,   0,   0,   0,\n",
              "          0,  20, 253, 251, 235,  66,   0,   0,   0,   0,   0,   0,   0,\n",
              "          0,   0],\n",
              "       [  0,   0,   0,   0,   0,   0,   0,   0,   0,   0,   0,   0,   0,\n",
              "         32, 205, 253, 251, 126,   0,   0,   0,   0,   0,   0,   0,   0,\n",
              "          0,   0],\n",
              "       [  0,   0,   0,   0,   0,   0,   0,   0,   0,   0,   0,   0,   0,\n",
              "        104, 251, 253, 184,  15,   0,   0,   0,   0,   0,   0,   0,   0,\n",
              "          0,   0],\n",
              "       [  0,   0,   0,   0,   0,   0,   0,   0,   0,   0,   0,   0,  80,\n",
              "        240, 251, 193,  23,   0,   0,   0,   0,   0,   0,   0,   0,   0,\n",
              "          0,   0],\n",
              "       [  0,   0,   0,   0,   0,   0,   0,   0,   0,   0,   0,  32, 253,\n",
              "        253, 253, 159,   0,   0,   0,   0,   0,   0,   0,   0,   0,   0,\n",
              "          0,   0],\n",
              "       [  0,   0,   0,   0,   0,   0,   0,   0,   0,   0,   0, 151, 251,\n",
              "        251, 251,  39,   0,   0,   0,   0,   0,   0,   0,   0,   0,   0,\n",
              "          0,   0],\n",
              "       [  0,   0,   0,   0,   0,   0,   0,   0,   0,   0,  48, 221, 251,\n",
              "        251, 172,   0,   0,   0,   0,   0,   0,   0,   0,   0,   0,   0,\n",
              "          0,   0],\n",
              "       [  0,   0,   0,   0,   0,   0,   0,   0,   0,   0, 234, 251, 251,\n",
              "        196,  12,   0,   0,   0,   0,   0,   0,   0,   0,   0,   0,   0,\n",
              "          0,   0],\n",
              "       [  0,   0,   0,   0,   0,   0,   0,   0,   0,   0, 253, 251, 251,\n",
              "         89,   0,   0,   0,   0,   0,   0,   0,   0,   0,   0,   0,   0,\n",
              "          0,   0],\n",
              "       [  0,   0,   0,   0,   0,   0,   0,   0,   0, 159, 255, 253, 253,\n",
              "         31,   0,   0,   0,   0,   0,   0,   0,   0,   0,   0,   0,   0,\n",
              "          0,   0],\n",
              "       [  0,   0,   0,   0,   0,   0,   0,   0,  48, 228, 253, 247, 140,\n",
              "          8,   0,   0,   0,   0,   0,   0,   0,   0,   0,   0,   0,   0,\n",
              "          0,   0],\n",
              "       [  0,   0,   0,   0,   0,   0,   0,   0,  64, 251, 253, 220,   0,\n",
              "          0,   0,   0,   0,   0,   0,   0,   0,   0,   0,   0,   0,   0,\n",
              "          0,   0],\n",
              "       [  0,   0,   0,   0,   0,   0,   0,   0,  64, 251, 253, 220,   0,\n",
              "          0,   0,   0,   0,   0,   0,   0,   0,   0,   0,   0,   0,   0,\n",
              "          0,   0],\n",
              "       [  0,   0,   0,   0,   0,   0,   0,   0,  24, 193, 253, 220,   0,\n",
              "          0,   0,   0,   0,   0,   0,   0,   0,   0,   0,   0,   0,   0,\n",
              "          0,   0],\n",
              "       [  0,   0,   0,   0,   0,   0,   0,   0,   0,   0,   0,   0,   0,\n",
              "          0,   0,   0,   0,   0,   0,   0,   0,   0,   0,   0,   0,   0,\n",
              "          0,   0],\n",
              "       [  0,   0,   0,   0,   0,   0,   0,   0,   0,   0,   0,   0,   0,\n",
              "          0,   0,   0,   0,   0,   0,   0,   0,   0,   0,   0,   0,   0,\n",
              "          0,   0],\n",
              "       [  0,   0,   0,   0,   0,   0,   0,   0,   0,   0,   0,   0,   0,\n",
              "          0,   0,   0,   0,   0,   0,   0,   0,   0,   0,   0,   0,   0,\n",
              "          0,   0]], dtype=uint8)"
            ]
          },
          "metadata": {
            "tags": []
          },
          "execution_count": 34
        }
      ]
    },
    {
      "cell_type": "code",
      "metadata": {
        "id": "Jp7iYbP1zDTS",
        "colab_type": "code",
        "outputId": "727fc520-7bb9-4240-a56b-72f860e3f4b2",
        "colab": {
          "base_uri": "https://localhost:8080/",
          "height": 34
        }
      },
      "source": [
        "y_train[3]"
      ],
      "execution_count": 0,
      "outputs": [
        {
          "output_type": "execute_result",
          "data": {
            "text/plain": [
              "1"
            ]
          },
          "metadata": {
            "tags": []
          },
          "execution_count": 35
        }
      ]
    },
    {
      "cell_type": "code",
      "metadata": {
        "id": "pVux4SjYzGfB",
        "colab_type": "code",
        "outputId": "c937220c-1aa3-4fcd-a935-5610beb396af",
        "colab": {
          "base_uri": "https://localhost:8080/",
          "height": 286
        }
      },
      "source": [
        "# Let's visualise how the train data looks like\n",
        "index = 3\n",
        " \n",
        "pred = X_train[index]\n",
        "pred = pred.reshape([28, 28]);\n",
        "plt.gray()\n",
        "plt.imshow(pred)\n",
        "plt.show()\n",
        "\n",
        "print(\"Tagged digit: \", y_train[index])"
      ],
      "execution_count": 0,
      "outputs": [
        {
          "output_type": "display_data",
          "data": {
            "image/png": "[encoded data removed]",
            "text/plain": [
              "<Figure size 432x288 with 1 Axes>"
            ]
          },
          "metadata": {
            "tags": []
          }
        },
        {
          "output_type": "stream",
          "text": [
            "Tagged digit:  1\n"
          ],
          "name": "stdout"
        }
      ]
    },
    {
      "cell_type": "code",
      "metadata": {
        "id": "jUxYcRIA6VAI",
        "colab_type": "code",
        "colab": {}
      },
      "source": [
        "#Scale the values by 255, so it is between 0 to 1\n",
        "X_train_scale = X_train / 255.0\n",
        "X_test_scale = X_test / 255.0"
      ],
      "execution_count": 0,
      "outputs": []
    },
    {
      "cell_type": "code",
      "metadata": {
        "id": "DVxbQlTL6W4g",
        "colab_type": "code",
        "outputId": "5d19423b-50d3-40da-b032-754804719147",
        "colab": {
          "base_uri": "https://localhost:8080/",
          "height": 592
        }
      },
      "source": [
        "#Show the first 25 data in the training set\n",
        "plt.figure(figsize=(10,10))\n",
        "for i in range(25):\n",
        "    plt.subplot(5,5,i+1)\n",
        "    plt.xticks([])\n",
        "    plt.yticks([])\n",
        "    plt.grid(False)\n",
        "    plt.imshow(X_train_scale[i], cmap=plt.cm.binary)\n",
        "    plt.xlabel(y_train[i])\n",
        "plt.show()"
      ],
      "execution_count": 0,
      "outputs": [
        {
          "output_type": "display_data",
          "data": {
            "image/png": "[encoded data removed]",
            "text/plain": [
              "<Figure size 720x720 with 25 Axes>"
            ]
          },
          "metadata": {
            "tags": []
          }
        }
      ]
    },
    {
      "cell_type": "code",
      "metadata": {
        "id": "eV0hM8Wo7HQU",
        "colab_type": "code",
        "outputId": "444e63a0-6f7e-4a8c-d4d8-8c1f4a841f23",
        "colab": {
          "base_uri": "https://localhost:8080/",
          "height": 289
        }
      },
      "source": [
        "#The NN layer setting\n",
        "#n_input = 784  # input layer (28x28 pixels)\n",
        "#n_hidden1 = 512  # 1st hidden layer\n",
        "#n_hidden2 = 256  # 2nd hidden layer\n",
        "#n_hidden3 = 128  # 3rd hidden layer\n",
        "#n_output = 10  # output layer (0-9 digits)\n",
        "#learning_rate = 1e-4\n",
        "#n_iterations = 1000\n",
        "#batch_size = 128\n",
        "#dropout = 0.5\n",
        "\n",
        "#setup the model for training\n",
        "model = keras.Sequential([\n",
        "    # transforms the format of the images from a 2d-array (of 28 by 28 pixels), to a 1d-array of 28 * 28 = 784 pixels.  No parameters to train\n",
        "    keras.layers.Flatten(input_shape=(28, 28)),\n",
        "    # 1st hidden layer\n",
        "    keras.layers.Dense(32, activation=tf.nn.relu),\n",
        "    # 2nd hidden layer\n",
        "    keras.layers.Dense(16, activation=tf.nn.relu),\n",
        "    # this returns an array of 10 probability scores that sum to 1. Each node contains a score that indicates the probability that the current image belongs to one of the 10 classes.\n",
        "    keras.layers.Dense(10, activation=tf.nn.softmax)\n",
        "])\n",
        "\n",
        "model.compile(optimizer='adam',\n",
        "            loss='sparse_categorical_crossentropy',\n",
        "            metrics=['accuracy']  )\n",
        "\n",
        "model.summary()\n"
      ],
      "execution_count": 47,
      "outputs": [
        {
          "output_type": "stream",
          "text": [
            "Model: \"sequential_7\"\n",
            "_________________________________________________________________\n",
            "Layer (type)                 Output Shape              Param #   \n",
            "=================================================================\n",
            "flatten_7 (Flatten)          (None, 784)               0         \n",
            "_________________________________________________________________\n",
            "dense_15 (Dense)             (None, 32)                25120     \n",
            "_________________________________________________________________\n",
            "dense_16 (Dense)             (None, 16)                528       \n",
            "_________________________________________________________________\n",
            "dense_17 (Dense)             (None, 10)                170       \n",
            "=================================================================\n",
            "Total params: 25,818\n",
            "Trainable params: 25,818\n",
            "Non-trainable params: 0\n",
            "_________________________________________________________________\n"
          ],
          "name": "stdout"
        }
      ]
    },
    {
      "cell_type": "code",
      "metadata": {
        "id": "yMRkXw18Fe4B",
        "colab_type": "code",
        "outputId": "e179a6ba-8f9c-432a-dc12-9ce92d767328",
        "colab": {
          "base_uri": "https://localhost:8080/",
          "height": 697
        }
      },
      "source": [
        "# Let's run the training\n",
        "history = model.fit(X_train_scale, y_train, epochs=20)"
      ],
      "execution_count": 48,
      "outputs": [
        {
          "output_type": "stream",
          "text": [
            "Epoch 1/20\n",
            "60000/60000 [==============================] - 3s 52us/sample - loss: 0.3804 - acc: 0.8885\n",
            "Epoch 2/20\n",
            "60000/60000 [==============================] - 3s 51us/sample - loss: 0.1842 - acc: 0.9454\n",
            "Epoch 3/20\n",
            "60000/60000 [==============================] - 3s 51us/sample - loss: 0.1465 - acc: 0.9563\n",
            "Epoch 4/20\n",
            "60000/60000 [==============================] - 3s 51us/sample - loss: 0.1239 - acc: 0.9627\n",
            "Epoch 5/20\n",
            "60000/60000 [==============================] - 3s 50us/sample - loss: 0.1078 - acc: 0.9678\n",
            "Epoch 6/20\n",
            "60000/60000 [==============================] - 3s 51us/sample - loss: 0.0952 - acc: 0.9716\n",
            "Epoch 7/20\n",
            "60000/60000 [==============================] - 3s 51us/sample - loss: 0.0854 - acc: 0.9741\n",
            "Epoch 8/20\n",
            "60000/60000 [==============================] - 3s 51us/sample - loss: 0.0777 - acc: 0.9763\n",
            "Epoch 9/20\n",
            "60000/60000 [==============================] - 3s 51us/sample - loss: 0.0714 - acc: 0.9778\n",
            "Epoch 10/20\n",
            "60000/60000 [==============================] - 3s 51us/sample - loss: 0.0642 - acc: 0.9801\n",
            "Epoch 11/20\n",
            "60000/60000 [==============================] - 3s 51us/sample - loss: 0.0602 - acc: 0.9808\n",
            "Epoch 12/20\n",
            "60000/60000 [==============================] - 3s 51us/sample - loss: 0.0572 - acc: 0.9823\n",
            "Epoch 13/20\n",
            "60000/60000 [==============================] - 3s 51us/sample - loss: 0.0518 - acc: 0.9836\n",
            "Epoch 14/20\n",
            "60000/60000 [==============================] - 3s 51us/sample - loss: 0.0490 - acc: 0.9846\n",
            "Epoch 15/20\n",
            "60000/60000 [==============================] - 3s 51us/sample - loss: 0.0449 - acc: 0.9859\n",
            "Epoch 16/20\n",
            "60000/60000 [==============================] - 3s 51us/sample - loss: 0.0440 - acc: 0.9859\n",
            "Epoch 17/20\n",
            "60000/60000 [==============================] - 3s 51us/sample - loss: 0.0397 - acc: 0.9877\n",
            "Epoch 18/20\n",
            "60000/60000 [==============================] - 3s 50us/sample - loss: 0.0388 - acc: 0.9875\n",
            "Epoch 19/20\n",
            "60000/60000 [==============================] - 3s 51us/sample - loss: 0.0358 - acc: 0.9883\n",
            "Epoch 20/20\n",
            "60000/60000 [==============================] - 3s 51us/sample - loss: 0.0349 - acc: 0.9884\n"
          ],
          "name": "stdout"
        }
      ]
    },
    {
      "cell_type": "code",
      "metadata": {
        "id": "xV9-BwaiFlH7",
        "colab_type": "code",
        "outputId": "d136ab00-4e31-4926-bca4-2cabd31111e6",
        "colab": {
          "base_uri": "https://localhost:8080/",
          "height": 51
        }
      },
      "source": [
        "# This eval the model against the test dataset\n",
        "test_loss, test_acc = model.evaluate(X_test_scale, y_test)\n",
        "\n",
        "print('Test accuracy:', test_acc)"
      ],
      "execution_count": 49,
      "outputs": [
        {
          "output_type": "stream",
          "text": [
            "10000/10000 [==============================] - 0s 49us/sample - loss: 0.1372 - acc: 0.9654\n",
            "Test accuracy: 0.9654\n"
          ],
          "name": "stdout"
        }
      ]
    },
    {
      "cell_type": "code",
      "metadata": {
        "id": "jvrBX2rhFmTN",
        "colab_type": "code",
        "colab": {}
      },
      "source": [
        "\n",
        "##  Run through the test dataset.  The prediction is output to the variable 'predictions'\n",
        "\n",
        "predictions = model.predict(X_test_scale)"
      ],
      "execution_count": 0,
      "outputs": []
    },
    {
      "cell_type": "code",
      "metadata": {
        "id": "1mjanoclGI3Q",
        "colab_type": "code",
        "outputId": "06d6156a-604b-494c-8de8-99f05bd457aa",
        "colab": {
          "base_uri": "https://localhost:8080/",
          "height": 592
        }
      },
      "source": [
        "# Routines to help to plot the data\n",
        "def plot_image(i, predictions_array, true_label, img):\n",
        "    predictions_array, true_label, img = predictions_array[i], true_label[i], img[i]\n",
        "    plt.grid(False)\n",
        "    plt.xticks([])\n",
        "    plt.yticks([])\n",
        "\n",
        "    plt.imshow(img, cmap=plt.cm.binary)\n",
        "\n",
        "    predicted_label = np.argmax(predictions_array)\n",
        "    if predicted_label == true_label:\n",
        "        color = 'blue'\n",
        "    else:\n",
        "        color = 'red'\n",
        "\n",
        "    plt.xlabel(\"I:{} \" \"{} {:2.0f}% ({})\".format(i, predicted_label,\n",
        "                                100*np.max(predictions_array),\n",
        "                                true_label),\n",
        "                                color=color)\n",
        "\n",
        "def plot_value_array(i,  predictions_array, true_label):\n",
        "    predictions_array, true_label = predictions_array[i], true_label[i]\n",
        "    plt.grid(False)\n",
        "    plt.xticks([0,1,2,3,4,5,6,7,8,9])\n",
        "    plt.yticks([0,0.5,1])\n",
        "    thisplot = plt.bar(range(10), predictions_array, color=\"#777777\")\n",
        "    plt.ylim([0, 1])\n",
        "    predicted_label = np.argmax(predictions_array)\n",
        "\n",
        "    thisplot[predicted_label].set_color('red')\n",
        "    thisplot[true_label].set_color('blue')\n",
        "\n",
        "##########################################\n",
        "\n",
        "#Show25 data in the test set\n",
        "offset = 2000\n",
        "\n",
        "plt.figure(figsize=(10,10))\n",
        "# for i in range(25):\n",
        "for i in range(36):\n",
        "    plt.subplot(6,6,i+1)\n",
        "    plot_image(i+offset, predictions, y_test, X_test_scale)\n",
        "\n",
        "plt.show()"
      ],
      "execution_count": 53,
      "outputs": [
        {
          "output_type": "display_data",
          "data": {
            "image/png": "[encoded data removed]",
            "text/plain": [
              "<Figure size 720x720 with 36 Axes>"
            ]
          },
          "metadata": {
            "tags": []
          }
        }
      ]
    },
    {
      "cell_type": "code",
      "metadata": {
        "id": "Ctux1cuhJEdO",
        "colab_type": "code",
        "outputId": "4bc71b8f-1723-482c-ffcb-6a8dc44b20ff",
        "colab": {
          "base_uri": "https://localhost:8080/",
          "height": 611
        }
      },
      "source": [
        "## some interesting dataset to see 2004, 2024,   2043,   \n",
        "i = 2004\n",
        "plt.figure(figsize=(6,3))\n",
        "plt.subplot(1,2,1)\n",
        "plot_image(i, predictions, y_test, X_test_scale)\n",
        "plt.subplot(1,2,2)\n",
        "plot_value_array(i, predictions,  y_test)\n",
        "plt.show()\n",
        "\n",
        "i = 2018\n",
        "plt.figure(figsize=(6,3))\n",
        "plt.subplot(1,2,1)\n",
        "plot_image(i, predictions, y_test, X_test_scale)\n",
        "plt.subplot(1,2,2)\n",
        "plot_value_array(i, predictions,  y_test)\n",
        "plt.show()\n",
        "\n",
        "i = 2043\n",
        "plt.figure(figsize=(6,3))\n",
        "plt.subplot(1,2,1)\n",
        "plot_image(i, predictions, y_test, X_test_scale)\n",
        "plt.subplot(1,2,2)\n",
        "plot_value_array(i, predictions,  y_test)\n",
        "plt.show()"
      ],
      "execution_count": 54,
      "outputs": [
        {
          "output_type": "display_data",
          "data": {
            "image/png": "[encoded data removed]",
            "text/plain": [
              "<Figure size 432x216 with 2 Axes>"
            ]
          },
          "metadata": {
            "tags": []
          }
        },
        {
          "output_type": "display_data",
          "data": {
            "image/png": "[encoded data removed]",
            "text/plain": [
              "<Figure size 432x216 with 2 Axes>"
            ]
          },
          "metadata": {
            "tags": []
          }
        },
        {
          "output_type": "display_data",
          "data": {
            "image/png": "[encoded data removed]",
            "text/plain": [
              "<Figure size 432x216 with 2 Axes>"
            ]
          },
          "metadata": {
            "tags": []
          }
        }
      ]
    },
    {
      "cell_type": "code",
      "metadata": {
        "id": "Ui67mpH1KQuq",
        "colab_type": "code",
        "colab": {}
      },
      "source": [
        "## To export the trained model\n",
        "\n",
        "# Save entire model to a HDF5 file\n",
        "model.save('my_model16.h5')"
      ],
      "execution_count": 0,
      "outputs": []
    }
  ]
}