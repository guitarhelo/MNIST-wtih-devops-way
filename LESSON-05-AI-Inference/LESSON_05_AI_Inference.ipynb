{
  "nbformat": 4,
  "nbformat_minor": 0,
  "metadata": {
    "colab": {
      "name": "LESSON-05-AI Inference.ipynb",
      "provenance": [],
      "collapsed_sections": []
    },
    "kernelspec": {
      "name": "python3",
      "display_name": "Python 3"
    }
  },
  "cells": [
    {
      "cell_type": "code",
      "metadata": {
        "id": "E1YYgL2HUgMd",
        "colab_type": "code",
        "colab": {}
      },
      "source": [
        "# APJC CSC Ignite 2019\n",
        "# Deploying the trained inference engin\n",
        "# Maint : Lee Man Wei\n",
        "# 2019 Sep 18\n",
        "\n",
        "# Standard Library\n",
        "import numpy as np\n",
        "\n",
        "# Third Part\n",
        "import tensorflow as tf\n",
        "import matplotlib.pyplot as plt \n",
        "from tensorflow import keras \n"
      ],
      "execution_count": 0,
      "outputs": []
    },
    {
      "cell_type": "code",
      "metadata": {
        "id": "YDyAJnzNVW_k",
        "colab_type": "code",
        "colab": {
          "base_uri": "https://localhost:8080/",
          "height": 289
        },
        "outputId": "baec1866-73da-43b5-b3cb-7bfcc360266f"
      },
      "source": [
        "new_model = keras.models.load_model('my_model16.h5')\n",
        "\n",
        "new_model.summary()"
      ],
      "execution_count": 4,
      "outputs": [
        {
          "output_type": "stream",
          "text": [
            "Model: \"sequential_7\"\n",
            "_________________________________________________________________\n",
            "Layer (type)                 Output Shape              Param #   \n",
            "=================================================================\n",
            "flatten_7 (Flatten)          (None, 784)               0         \n",
            "_________________________________________________________________\n",
            "dense_15 (Dense)             (None, 32)                25120     \n",
            "_________________________________________________________________\n",
            "dense_16 (Dense)             (None, 16)                528       \n",
            "_________________________________________________________________\n",
            "dense_17 (Dense)             (None, 10)                170       \n",
            "=================================================================\n",
            "Total params: 25,818\n",
            "Trainable params: 25,818\n",
            "Non-trainable params: 0\n",
            "_________________________________________________________________\n"
          ],
          "name": "stdout"
        }
      ]
    },
    {
      "cell_type": "code",
      "metadata": {
        "id": "xaRqQzOEV2BT",
        "colab_type": "code",
        "colab": {
          "base_uri": "https://localhost:8080/",
          "height": 51
        },
        "outputId": "29c4a1e5-f1a1-4e88-c228-9acc5f0852f5"
      },
      "source": [
        "#  To save / restore , view weights only\n",
        "weights = new_model.get_weights()  # Retrieves the state of the model.\n",
        "\n",
        "# Let's see what is stored in the model wegiths\n",
        "\n",
        "print (\"Typ: \", type(weights))\n",
        "print (\"Length: \", len(weights))"
      ],
      "execution_count": 7,
      "outputs": [
        {
          "output_type": "stream",
          "text": [
            "Typ:  <class 'list'>\n",
            "Length:  6\n"
          ],
          "name": "stdout"
        }
      ]
    },
    {
      "cell_type": "code",
      "metadata": {
        "id": "KqKnelqlWOng",
        "colab_type": "code",
        "colab": {
          "base_uri": "https://localhost:8080/",
          "height": 238
        },
        "outputId": "9327da1d-a69c-435a-a964-29770835985e"
      },
      "source": [
        "print (\"index [0] Type \", type(weights[0]))\n",
        "print (\"index[0] Length: \", len(weights[0]))\n",
        "print (\"\")\n",
        "print (\"Each [0] item type is\", type(weights[0][0]))\n",
        "print (\"Each [0] item len is \", len(weights[0][0]))\n",
        "print (\"\")\n",
        "print(\"Example of [0][0]\")\n",
        "print(weights[0][0])"
      ],
      "execution_count": 8,
      "outputs": [
        {
          "output_type": "stream",
          "text": [
            "index [0] Type  <class 'numpy.ndarray'>\n",
            "index[0] Length:  784\n",
            "\n",
            "Each [0] item type is <class 'numpy.ndarray'>\n",
            "Each [0] item len is  32\n",
            "\n",
            "Example of [0][0]\n",
            "[-0.07515969 -0.05687387  0.06718197  0.01424176  0.03724416 -0.06243934\n",
            " -0.05218237 -0.01334669 -0.00789086  0.08236001  0.06026708 -0.08214957\n",
            "  0.05268122  0.05366676  0.0135728  -0.0849841  -0.03984267  0.067768\n",
            "  0.07804515 -0.08376009  0.01137492 -0.06530468 -0.00667494 -0.00874925\n",
            "  0.01276138 -0.00294591 -0.08336151  0.00443216 -0.03525843 -0.02532702\n",
            "  0.01765187 -0.00872942]\n"
          ],
          "name": "stdout"
        }
      ]
    },
    {
      "cell_type": "code",
      "metadata": {
        "id": "n-OJWrj3WZ5J",
        "colab_type": "code",
        "colab": {
          "base_uri": "https://localhost:8080/",
          "height": 204
        },
        "outputId": "d03dcf8e-364d-4736-8fae-6e732ffe472f"
      },
      "source": [
        "print (\"index [1] Type \", type(weights[1]))\n",
        "print (\"index[1] Length: \", len(weights[1]))\n",
        "print (\"\")\n",
        "print (\"Each [1] item is\", type(weights[1][0]))\n",
        "print (\"\")\n",
        "print(weights[1])"
      ],
      "execution_count": 9,
      "outputs": [
        {
          "output_type": "stream",
          "text": [
            "index [1] Type  <class 'numpy.ndarray'>\n",
            "index[1] Length:  32\n",
            "\n",
            "Each [1] item is <class 'numpy.float32'>\n",
            "\n",
            "[ 0.11611903  0.15342568  0.13181967  0.32141414  0.04135188 -0.08497462\n",
            " -0.0651084   0.34345666  0.02660887  0.22016582 -0.21605691  0.00685461\n",
            " -0.11038609  0.11948278  0.1428427   0.36163175  0.0489353   0.22505848\n",
            " -0.10847334  0.49187788  0.22987054  0.27251393  0.17886661 -0.13286783\n",
            " -0.06080493  0.04205442  0.15312438  0.02791382 -0.12551193 -0.22172952\n",
            "  0.01580085 -0.35049942]\n"
          ],
          "name": "stdout"
        }
      ]
    },
    {
      "cell_type": "code",
      "metadata": {
        "id": "tWd_65-VWpva",
        "colab_type": "code",
        "colab": {
          "base_uri": "https://localhost:8080/",
          "height": 153
        },
        "outputId": "86716872-b865-4638-b5a3-b7f0b9a83d88"
      },
      "source": [
        "print (\"index [2] Type \", type(weights[2]))\n",
        "print (\"index[2] Length: \", len(weights[2]))\n",
        "print (\"\")\n",
        "print (\"Each [2] item is\", type(weights[2][0]))\n",
        "print (\"\")\n",
        "print(weights[2][0])"
      ],
      "execution_count": 10,
      "outputs": [
        {
          "output_type": "stream",
          "text": [
            "index [2] Type  <class 'numpy.ndarray'>\n",
            "index[2] Length:  32\n",
            "\n",
            "Each [2] item is <class 'numpy.ndarray'>\n",
            "\n",
            "[ 0.03279483  0.25516307  0.0831864   0.38936552 -0.05355689 -0.02757102\n",
            " -0.94869876  0.8514078  -0.14725308 -0.08166908 -0.09922459 -0.46751195\n",
            " -0.18250808 -0.21571167  0.15312281 -0.5429461 ]\n"
          ],
          "name": "stdout"
        }
      ]
    },
    {
      "cell_type": "code",
      "metadata": {
        "id": "PycmKdWcWxgu",
        "colab_type": "code",
        "colab": {
          "base_uri": "https://localhost:8080/",
          "height": 153
        },
        "outputId": "0e598e64-45d9-486b-97fe-5024e7691cd8"
      },
      "source": [
        "print (\"index [3] Type \", type(weights[3]))\n",
        "print (\"index[3] Length: \", len(weights[3]))\n",
        "print (\"\")\n",
        "print (\"Each [3] item is\", type(weights[3][0]))\n",
        "print (\"\")\n",
        "print(weights[3])"
      ],
      "execution_count": 11,
      "outputs": [
        {
          "output_type": "stream",
          "text": [
            "index [3] Type  <class 'numpy.ndarray'>\n",
            "index[3] Length:  16\n",
            "\n",
            "Each [3] item is <class 'numpy.float32'>\n",
            "\n",
            "[ 0.26856846  0.26618513  0.20405826  0.08077891 -0.04396607  0.04334438\n",
            " -0.10511021  0.228817   -0.03371548 -0.22926514 -0.0111983   0.16804904\n",
            "  0.46912223  0.00867352  0.1849579  -0.15103486]\n"
          ],
          "name": "stdout"
        }
      ]
    },
    {
      "cell_type": "code",
      "metadata": {
        "id": "KAvUFhuZXVlu",
        "colab_type": "code",
        "colab": {
          "base_uri": "https://localhost:8080/",
          "height": 269
        },
        "outputId": "ba118e45-9fcf-4b18-ad4d-29bb7e8b19a8"
      },
      "source": [
        "#test_data1 = np.empty((1,28,28))\n",
        "test_data1 = np.array([[\n",
        "    [  0,   0,   0,   0,   0,   0,   0,   0,   0,   0,   0,   0,   0,  0,   0,   0,   0,   0,   0,   0,   0,   0,   0,   0,   0,   0,  0,   0],\n",
        "    [  0,   0,   0,   0,   0,   0,   0,   0,   0,   0,   0,   0,   0,  0,   0,   0,   0,   0,   0,   0,   0,   0,   0,   0,   0,   0,  0,   0],\n",
        "    [  0,   0,   0,   0,   0,   0,   0,   0,   0,   0,   0,   0,   0,  0,   0,   0,   0,   0,   0,   0,   0,   0,   0,   0,   0,   0,  0,   0],\n",
        "    [  0,   0,   0,   0,   0,   0,   0,   0,   0,   0,   0,   0,   0,  0,   0,   0,   0,   0,   0,   0,   0,   0,   0,   0,   0,   0,  0,   0],\n",
        "    [  0,   0,   0,   0,   0,   0,   0,   0,   0,   0,   0,   0,   0,  0,   0,   0,   0,   0,   0,   0,   0,   0,   0,   0,   0,   0,  0,   0],\n",
        "    [  0,   0,   0,   0,   0,   0,   0,   0,   0,   0,   0,   0,   0,  0,   0,   0,   0,   0,   0,   0,   0,   0,   0,   0,   0,   0,  0,   0],\n",
        "    [  0,   0,   0,   0,   0,   0,   0,   0,   0,   0,   0,   0,   0,  0,   0,   0,   0,   0,   0,   0,   0,   0,   0,   0,   0,   0,  0,   0],\n",
        "    [  0,   0,   0,   0,   0,   0,   0,   6,  53, 115, 179, 184, 255,254, 246, 179, 175, 106,  44,   0,   0,   0,   0,   0,   0,   0,  0,   0],\n",
        "    [  0,   0,   0,   0,   0,   0,   0, 146, 254, 254, 254, 254, 254,254, 254, 218, 254, 254, 122,   0,   0,   0,   0,   0,   0,   0,  0,   0],\n",
        "    [  0,   0,   0,   0,   0,   0,   0, 194, 254, 186, 204, 190, 150, 68,  59,  32, 201, 254, 227, 141,   0,   0,   0,   0,   0,   0,  0,   0],\n",
        "    [  0,   0,   0,   0,   0,   0,   0,  72, 249, 155,   8,   0,   0,  0,  63, 213, 254, 254, 240,  80,   0,   0,   0,   0,   0,   0,  0,   0],\n",
        "    [  0,   0,   0,   0,   0,   0,   0,   0, 115, 254, 154,   0,   0, 89, 246, 254, 249, 130,  21,   0,   0,   0,   0,   0,   0,   0,  0,   0],\n",
        "    [  0,   0,   0,   0,   0,   0,   0,   0,   0, 119, 254, 131,  79,246, 252, 124,  27,   0,   0,   0,   0,   0,   0,   0,   0,   0,  0,   0],\n",
        "    [  0,   0,   0,   0,   0,   0,   0,   0,   0,   6, 124, 250, 254,254, 102,   0,   0,   0,   0,   0,   0,   0,   0,   0,   0,   0,  0,   0],\n",
        "    [  0,   0,   0,   0,   0,   0,   0,   0,   0,   0,   0, 121, 254,254,   5,   0,   0,   0,   0,   0,   0,   0,   0,   0,   0,   0,  0,   0],\n",
        "    [  0,   0,   0,   0,   0,   0,   0,   0,   0,   0,   0, 147, 254,254,  85,   0,   0,   0,   0,   0,   0,   0,   0,   0,   0,   0,  0,   0],\n",
        "    [  0,   0,   0,   0,   0,   0,   0,   0,   0,   0,  36, 239, 240,223, 251,  62,   0,   0,   0,   0,   0,   0,   0,   0,   0,   0,  0,   0],\n",
        "    [  0,   0,   0,   0,   0,   0,   0,   0,   0,   0,   0, 218, 147, 23, 207, 237,  50,   0,   0,   0,   0,   0,   0,   0,   0,   0,  0,   0],\n",
        "    [  0,   0,   0,   0,   0,   0,   0,   0,   0,   0,  50, 239,  11,  0,  15, 230, 204,   0,   0,   0,   0,   0,   0,   0,   0,   0,  0,   0],\n",
        "    [  0,   0,   0,   0,   0,   0,   0,   0,   0,   0,  39, 234,   0,  0,   0,  92, 243, 155,   2,   0,   0,   0,   0,   0,   0,   0,  0,   0],\n",
        "    [  0,   0,   0,   0,   0,   0,   0,   0,   0,   0,  36, 233,   0,  0,   0,   0, 117, 254, 101,   0,   0,   0,   0,   0,   0,   0,  0,   0],\n",
        "    [  0,   0,   0,   0,   0,   0,   0,   0,   0,   0,   0, 202,   0,  0,   0,   0,   7, 175, 245,  67,   0,   0,   0,   0,   0,   0,  0,   0],\n",
        "    [  0,   0,   0,   0,   0,   0,   0,   0,   0,   0,   0, 104,  56,  0,   0,   0,   0,  14, 194, 184,   6,   0,   0,   0,   0,   0,  0,   0],\n",
        "    [  0,   0,   0,   0,   0,   0,   0,   0,   0,   0,   0,  47, 170,  7,   0,   0,   0,   0,  36, 237, 107,   0,   0,   0,   0,   0,  0,   0],\n",
        "    [  0,   0,   0,   0,   0,   0,   0,   0,   0,   0,   0,   0,  95,169,   9,   0,   0,   0,   0, 131, 167,   0,   0,   0,   0,   0,  0,   0],\n",
        "    [  0,   0,   0,   0,   0,   0,   0,   0,   0,   0,   0,   0,   0, 80, 199,  48,   0,   0,   0, 105, 194,   0,   0,   0,   0,   0,  0,   0],\n",
        "    [  0,   0,   0,   0,   0,   0,   0,   0,   0,   0,   0,   0,   0,  0,  48, 190, 224, 154, 141, 215, 128,   0,   0,   0,   0,   0,  0,   0],\n",
        "    [  0,   0,   0,   0,   0,   0,   0,   0,   0,   0,   0,   0,   0,  0,   0,   0,   0,   0,   0,   0,   0,   0,   0,   0,   0,   0,  0,   0]]])\n",
        "\n",
        "# this data is supposed to be 8.  \n",
        "y_test = [8]\n",
        "\n",
        "\n",
        "#Let's plot it\n",
        "pred = test_data1a[0]\n",
        "pred = pred.reshape([28, 28]);\n",
        "plt.gray()\n",
        "plt.imshow(pred)\n",
        "plt.show()"
      ],
      "execution_count": 16,
      "outputs": [
        {
          "output_type": "display_data",
          "data": {
            "image/png": "[encoded data removed]",
            "text/plain": [
              "<Figure size 432x288 with 1 Axes>"
            ]
          },
          "metadata": {
            "tags": []
          }
        }
      ]
    },
    {
      "cell_type": "code",
      "metadata": {
        "id": "B1FxMoefYKuf",
        "colab_type": "code",
        "colab": {
          "base_uri": "https://localhost:8080/",
          "height": 269
        },
        "outputId": "f323c940-12a7-4d80-b509-57c7ffa4a4f1"
      },
      "source": [
        "#scale it just like when we trained the model\n",
        "test_data2 = test_data1 / 255.0\n",
        "plt.imshow(test_data2[0], cmap=plt.cm.binary)\n",
        "plt.show()"
      ],
      "execution_count": 17,
      "outputs": [
        {
          "output_type": "display_data",
          "data": {
            "image/png": "[encoded data removed]",
            "text/plain": [
              "<Figure size 432x288 with 1 Axes>"
            ]
          },
          "metadata": {
            "tags": []
          }
        }
      ]
    },
    {
      "cell_type": "code",
      "metadata": {
        "id": "RIl9IICrZoJ0",
        "colab_type": "code",
        "colab": {
          "base_uri": "https://localhost:8080/",
          "height": 85
        },
        "outputId": "45789545-82ae-4fb4-ffcd-b2c659fe693c"
      },
      "source": [
        "# Now let's use the restored model to do the prediction\n",
        "\n",
        "new_prediction = new_model.predict(test_data2)\n",
        "\n",
        "print(new_prediction[0])\n",
        "print ()\n",
        "print(np.argmax(new_prediction[0]))"
      ],
      "execution_count": 18,
      "outputs": [
        {
          "output_type": "stream",
          "text": [
            "[1.4958877e-07 1.4818565e-07 1.2844301e-07 4.9762222e-01 6.4646660e-13\n",
            " 1.7969863e-04 7.2443641e-13 9.8931707e-07 3.7331048e-01 1.2888610e-01]\n",
            "\n",
            "3\n"
          ],
          "name": "stdout"
        }
      ]
    },
    {
      "cell_type": "code",
      "metadata": {
        "id": "g-WDZmiQZh2B",
        "colab_type": "code",
        "colab": {
          "base_uri": "https://localhost:8080/",
          "height": 215
        },
        "outputId": "23c00a8c-6539-4af1-ff33-e27f0d1966c9"
      },
      "source": [
        "# Routines to help to plot the data\n",
        "def plot_image(i, predictions_array, true_label, img):\n",
        "    predictions_array, true_label, img = predictions_array[i], true_label[i], img[i]\n",
        "    plt.grid(False)\n",
        "    plt.xticks([])\n",
        "    plt.yticks([])\n",
        "\n",
        "    plt.imshow(img, cmap=plt.cm.binary)\n",
        "\n",
        "    predicted_label = np.argmax(predictions_array)\n",
        "    if predicted_label == true_label:\n",
        "        color = 'blue'\n",
        "    else:\n",
        "        color = 'red'\n",
        "\n",
        "    plt.xlabel(\"I:{} \" \"{} {:2.0f}% ({})\".format(i, predicted_label,\n",
        "                                100*np.max(predictions_array),\n",
        "                                true_label),\n",
        "                                color=color)\n",
        "\n",
        "def plot_value_array(i, predictions_array, true_label):\n",
        "    predictions_array, true_label = predictions_array[i], true_label[i]\n",
        "    plt.grid(False)\n",
        "    plt.xticks([0,1,2,3,4,5,6,7,8,9])\n",
        "    plt.yticks([0,0.5,1])\n",
        "    thisplot = plt.bar(range(10), predictions_array, color=\"#777777\")\n",
        "    plt.ylim([0, 1])\n",
        "    predicted_label = np.argmax(predictions_array)\n",
        "\n",
        "    thisplot[predicted_label].set_color('red')\n",
        "    thisplot[true_label].set_color('blue')\n",
        "\n",
        "##########################################\n",
        "\n",
        "\n",
        "i = 0\n",
        "plt.figure(figsize=(6,3))\n",
        "plt.subplot(1,2,1)\n",
        "plot_image(i, new_prediction, y_test, test_data2)\n",
        "plt.subplot(1,2,2)\n",
        "plot_value_array(i, new_prediction,  y_test)\n",
        "plt.show()"
      ],
      "execution_count": 19,
      "outputs": [
        {
          "output_type": "display_data",
          "data": {
            "image/png": "[encoded data removed]",
            "text/plain": [
              "<Figure size 432x216 with 2 Axes>"
            ]
          },
          "metadata": {
            "tags": []
          }
        }
      ]
    }
  ]
}